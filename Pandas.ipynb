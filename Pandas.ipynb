{
 "cells": [
  {
   "cell_type": "code",
   "execution_count": 1,
   "id": "21b00123",
   "metadata": {},
   "outputs": [],
   "source": [
    "import pandas as pd\n",
    "\n",
    "#To import a CSV file\n",
    "df = pd.read_csv(\"goodEducation.csv\")"
   ]
  },
  {
   "cell_type": "code",
   "execution_count": 2,
   "id": "24954898",
   "metadata": {},
   "outputs": [
    {
     "name": "stdout",
     "output_type": "stream",
     "text": [
      "                   Content  YesCount  NoCount  PercentYes  PercentNo\n",
      "0              My Teachers     18358    17065    0.518251   0.481749\n",
      "1                    Other     12432     9130    0.576570   0.423430\n",
      "2  Motivated and Work Hard     11918     8715    0.577618   0.422382\n",
      "3          Size of Classes      3969     2154    0.648212   0.351788\n",
      "4      Books and Resources      3790     2544    0.598358   0.401642\n",
      "5              My Teachers      1186     2883    0.653359   0.481749\n"
     ]
    }
   ],
   "source": [
    "print(df)"
   ]
  },
  {
   "cell_type": "code",
   "execution_count": 3,
   "id": "76fc0c41",
   "metadata": {},
   "outputs": [
    {
     "name": "stdout",
     "output_type": "stream",
     "text": [
      "                   Content  YesCount  NoCount  PercentYes  PercentNo\n",
      "0              My Teachers     18358    17065    0.518251   0.481749\n",
      "1                    Other     12432     9130    0.576570   0.423430\n",
      "2  Motivated and Work Hard     11918     8715    0.577618   0.422382\n"
     ]
    }
   ],
   "source": [
    "#To select the first few entries\n",
    "print(df.head(3))"
   ]
  },
  {
   "cell_type": "code",
   "execution_count": 4,
   "id": "e3da97ac",
   "metadata": {},
   "outputs": [
    {
     "name": "stdout",
     "output_type": "stream",
     "text": [
      "               Content  YesCount  NoCount  PercentYes  PercentNo\n",
      "3      Size of Classes      3969     2154    0.648212   0.351788\n",
      "4  Books and Resources      3790     2544    0.598358   0.401642\n",
      "5          My Teachers      1186     2883    0.653359   0.481749\n"
     ]
    }
   ],
   "source": [
    "#To select the last few entries\n",
    "print(df.tail(3))"
   ]
  },
  {
   "cell_type": "code",
   "execution_count": 5,
   "id": "e18358da",
   "metadata": {},
   "outputs": [],
   "source": [
    "#To import an excel file\n",
    "#df_xlsx = pd.read_excel(\"goodEducation.xlsx\")"
   ]
  },
  {
   "cell_type": "code",
   "execution_count": 6,
   "id": "1e8a866e",
   "metadata": {},
   "outputs": [],
   "source": [
    "#To read from a tab separated text file\n",
    "\n",
    "df2 = pd.read_csv('goodEducation.csv',delimiter='\\t')\n",
    "#The delimiter can be anything that separates the data."
   ]
  },
  {
   "cell_type": "code",
   "execution_count": 7,
   "id": "c244555d",
   "metadata": {},
   "outputs": [
    {
     "data": {
      "text/html": [
       "<div>\n",
       "<style scoped>\n",
       "    .dataframe tbody tr th:only-of-type {\n",
       "        vertical-align: middle;\n",
       "    }\n",
       "\n",
       "    .dataframe tbody tr th {\n",
       "        vertical-align: top;\n",
       "    }\n",
       "\n",
       "    .dataframe thead th {\n",
       "        text-align: right;\n",
       "    }\n",
       "</style>\n",
       "<table border=\"1\" class=\"dataframe\">\n",
       "  <thead>\n",
       "    <tr style=\"text-align: right;\">\n",
       "      <th></th>\n",
       "      <th>Content,YesCount,NoCount,PercentYes,PercentNo</th>\n",
       "    </tr>\n",
       "  </thead>\n",
       "  <tbody>\n",
       "    <tr>\n",
       "      <th>0</th>\n",
       "      <td>My Teachers,18358,17065,0.518250854,0.481749146</td>\n",
       "    </tr>\n",
       "    <tr>\n",
       "      <th>1</th>\n",
       "      <td>Other,12432,9130,0.576569891,0.423430109</td>\n",
       "    </tr>\n",
       "    <tr>\n",
       "      <th>2</th>\n",
       "      <td>Motivated and Work Hard,11918,8715,0.577618378...</td>\n",
       "    </tr>\n",
       "    <tr>\n",
       "      <th>3</th>\n",
       "      <td>Size of Classes,3969,2154,0.648211661,0.351788339</td>\n",
       "    </tr>\n",
       "    <tr>\n",
       "      <th>4</th>\n",
       "      <td>Books and Resources,3790,2544,0.598358068,0.40...</td>\n",
       "    </tr>\n",
       "    <tr>\n",
       "      <th>5</th>\n",
       "      <td>My Teachers,1186,2883,0.653358629,0.481749146</td>\n",
       "    </tr>\n",
       "  </tbody>\n",
       "</table>\n",
       "</div>"
      ],
      "text/plain": [
       "       Content,YesCount,NoCount,PercentYes,PercentNo\n",
       "0    My Teachers,18358,17065,0.518250854,0.481749146\n",
       "1           Other,12432,9130,0.576569891,0.423430109\n",
       "2  Motivated and Work Hard,11918,8715,0.577618378...\n",
       "3  Size of Classes,3969,2154,0.648211661,0.351788339\n",
       "4  Books and Resources,3790,2544,0.598358068,0.40...\n",
       "5      My Teachers,1186,2883,0.653358629,0.481749146"
      ]
     },
     "execution_count": 7,
     "metadata": {},
     "output_type": "execute_result"
    }
   ],
   "source": [
    "df2"
   ]
  },
  {
   "cell_type": "markdown",
   "id": "2cd2c6cf",
   "metadata": {},
   "source": [
    "# Reading Data in Pandas"
   ]
  },
  {
   "cell_type": "code",
   "execution_count": 8,
   "id": "bec16aa1",
   "metadata": {},
   "outputs": [
    {
     "name": "stdout",
     "output_type": "stream",
     "text": [
      "Index(['Content', 'YesCount', 'NoCount', 'PercentYes', 'PercentNo'], dtype='object')\n"
     ]
    }
   ],
   "source": [
    "#Reading headers\n",
    "\n",
    "print(df.columns)"
   ]
  },
  {
   "cell_type": "code",
   "execution_count": 9,
   "id": "027b330e",
   "metadata": {},
   "outputs": [
    {
     "name": "stdout",
     "output_type": "stream",
     "text": [
      "0                My Teachers\n",
      "1                      Other\n",
      "2    Motivated and Work Hard\n",
      "3            Size of Classes\n",
      "4        Books and Resources\n",
      "5                My Teachers\n",
      "Name: Content, dtype: object\n"
     ]
    }
   ],
   "source": [
    "#Reading a particular column\n",
    "\n",
    "print(df['Content'])"
   ]
  },
  {
   "cell_type": "code",
   "execution_count": 10,
   "id": "c22e8f3d",
   "metadata": {},
   "outputs": [
    {
     "name": "stdout",
     "output_type": "stream",
     "text": [
      "0    My Teachers\n",
      "1          Other\n",
      "Name: Content, dtype: object\n"
     ]
    }
   ],
   "source": [
    "#Reading a particular column with limit of rows\n",
    "\n",
    "print(df['Content'][0:2])"
   ]
  },
  {
   "cell_type": "code",
   "execution_count": 11,
   "id": "eed2ce5d",
   "metadata": {},
   "outputs": [
    {
     "name": "stdout",
     "output_type": "stream",
     "text": [
      "                   Content  PercentYes  PercentNo\n",
      "1                    Other    0.576570   0.423430\n",
      "2  Motivated and Work Hard    0.577618   0.422382\n"
     ]
    }
   ],
   "source": [
    "#Reading a multiple columns\n",
    "\n",
    "print(df[['Content', 'PercentYes', 'PercentNo']] [1:3])             #pass the names of the columns as an array"
   ]
  },
  {
   "cell_type": "code",
   "execution_count": 12,
   "id": "3de5919d",
   "metadata": {},
   "outputs": [
    {
     "data": {
      "text/plain": [
       "Content       Motivated and Work Hard\n",
       "YesCount                        11918\n",
       "NoCount                          8715\n",
       "PercentYes                   0.577618\n",
       "PercentNo                    0.422382\n",
       "Name: 2, dtype: object"
      ]
     },
     "execution_count": 12,
     "metadata": {},
     "output_type": "execute_result"
    }
   ],
   "source": [
    "#Reading a specific row\n",
    "\n",
    "df.iloc[2]\n"
   ]
  },
  {
   "cell_type": "code",
   "execution_count": 13,
   "id": "cfee5c7b",
   "metadata": {},
   "outputs": [
    {
     "name": "stdout",
     "output_type": "stream",
     "text": [
      "                   Content  YesCount  NoCount  PercentYes  PercentNo\n",
      "2  Motivated and Work Hard     11918     8715    0.577618   0.422382\n",
      "3          Size of Classes      3969     2154    0.648212   0.351788\n"
     ]
    }
   ],
   "source": [
    "#Reading a multiple specific rows\n",
    "\n",
    "print(df.iloc[2:4])     "
   ]
  },
  {
   "cell_type": "code",
   "execution_count": 14,
   "id": "50baf259",
   "metadata": {},
   "outputs": [
    {
     "data": {
      "text/plain": [
       "9130"
      ]
     },
     "execution_count": 14,
     "metadata": {},
     "output_type": "execute_result"
    }
   ],
   "source": [
    "#Reading a specific location (row,column) using iloc\n",
    "\n",
    "df.iloc[1,2]"
   ]
  },
  {
   "cell_type": "code",
   "execution_count": 15,
   "id": "44f2c236",
   "metadata": {},
   "outputs": [
    {
     "name": "stdout",
     "output_type": "stream",
     "text": [
      "0 Content       My Teachers\n",
      "YesCount            18358\n",
      "NoCount             17065\n",
      "PercentYes       0.518251\n",
      "PercentNo        0.481749\n",
      "Name: 0, dtype: object\n",
      "1 Content         Other\n",
      "YesCount        12432\n",
      "NoCount          9130\n",
      "PercentYes    0.57657\n",
      "PercentNo     0.42343\n",
      "Name: 1, dtype: object\n",
      "2 Content       Motivated and Work Hard\n",
      "YesCount                        11918\n",
      "NoCount                          8715\n",
      "PercentYes                   0.577618\n",
      "PercentNo                    0.422382\n",
      "Name: 2, dtype: object\n",
      "3 Content       Size of Classes\n",
      "YesCount                 3969\n",
      "NoCount                  2154\n",
      "PercentYes           0.648212\n",
      "PercentNo            0.351788\n",
      "Name: 3, dtype: object\n",
      "4 Content       Books and Resources\n",
      "YesCount                     3790\n",
      "NoCount                      2544\n",
      "PercentYes               0.598358\n",
      "PercentNo                0.401642\n",
      "Name: 4, dtype: object\n",
      "5 Content       My Teachers\n",
      "YesCount             1186\n",
      "NoCount              2883\n",
      "PercentYes       0.653359\n",
      "PercentNo        0.481749\n",
      "Name: 5, dtype: object\n"
     ]
    }
   ],
   "source": [
    "#Iterating through the data frame using iterrows()\n",
    "\n",
    "for index, row in df.iterrows():\n",
    "    print(index, row)"
   ]
  },
  {
   "cell_type": "code",
   "execution_count": 16,
   "id": "ca31cdf3",
   "metadata": {},
   "outputs": [
    {
     "name": "stdout",
     "output_type": "stream",
     "text": [
      "0 My Teachers\n",
      "1 Other\n",
      "2 Motivated and Work Hard\n",
      "3 Size of Classes\n",
      "4 Books and Resources\n",
      "5 My Teachers\n",
      "\n",
      "0 My Teachers 18358\n",
      "1 Other 12432\n",
      "2 Motivated and Work Hard 11918\n",
      "3 Size of Classes 3969\n",
      "4 Books and Resources 3790\n",
      "5 My Teachers 1186\n"
     ]
    }
   ],
   "source": [
    "#Iterating through the data frame and specifying columns\n",
    "\n",
    "for index, row in df.iterrows():\n",
    "    print(index, row['Content'])\n",
    "    \n",
    "print()\n",
    "\n",
    "for index, row in df.iterrows():\n",
    "    print(index, row['Content'], row['YesCount'])"
   ]
  },
  {
   "cell_type": "code",
   "execution_count": 17,
   "id": "2b60f516",
   "metadata": {},
   "outputs": [
    {
     "data": {
      "text/html": [
       "<div>\n",
       "<style scoped>\n",
       "    .dataframe tbody tr th:only-of-type {\n",
       "        vertical-align: middle;\n",
       "    }\n",
       "\n",
       "    .dataframe tbody tr th {\n",
       "        vertical-align: top;\n",
       "    }\n",
       "\n",
       "    .dataframe thead th {\n",
       "        text-align: right;\n",
       "    }\n",
       "</style>\n",
       "<table border=\"1\" class=\"dataframe\">\n",
       "  <thead>\n",
       "    <tr style=\"text-align: right;\">\n",
       "      <th></th>\n",
       "      <th>Content</th>\n",
       "      <th>YesCount</th>\n",
       "      <th>NoCount</th>\n",
       "      <th>PercentYes</th>\n",
       "      <th>PercentNo</th>\n",
       "    </tr>\n",
       "  </thead>\n",
       "  <tbody>\n",
       "    <tr>\n",
       "      <th>0</th>\n",
       "      <td>My Teachers</td>\n",
       "      <td>18358</td>\n",
       "      <td>17065</td>\n",
       "      <td>0.518251</td>\n",
       "      <td>0.481749</td>\n",
       "    </tr>\n",
       "    <tr>\n",
       "      <th>5</th>\n",
       "      <td>My Teachers</td>\n",
       "      <td>1186</td>\n",
       "      <td>2883</td>\n",
       "      <td>0.653359</td>\n",
       "      <td>0.481749</td>\n",
       "    </tr>\n",
       "  </tbody>\n",
       "</table>\n",
       "</div>"
      ],
      "text/plain": [
       "       Content  YesCount  NoCount  PercentYes  PercentNo\n",
       "0  My Teachers     18358    17065    0.518251   0.481749\n",
       "5  My Teachers      1186     2883    0.653359   0.481749"
      ]
     },
     "execution_count": 17,
     "metadata": {},
     "output_type": "execute_result"
    }
   ],
   "source": [
    "#Filtering rows based on value of a column using loc\n",
    "\n",
    "df.loc[df['Content'] == 'My Teachers']"
   ]
  },
  {
   "cell_type": "code",
   "execution_count": 18,
   "id": "2239bcc8",
   "metadata": {},
   "outputs": [
    {
     "data": {
      "text/html": [
       "<div>\n",
       "<style scoped>\n",
       "    .dataframe tbody tr th:only-of-type {\n",
       "        vertical-align: middle;\n",
       "    }\n",
       "\n",
       "    .dataframe tbody tr th {\n",
       "        vertical-align: top;\n",
       "    }\n",
       "\n",
       "    .dataframe thead th {\n",
       "        text-align: right;\n",
       "    }\n",
       "</style>\n",
       "<table border=\"1\" class=\"dataframe\">\n",
       "  <thead>\n",
       "    <tr style=\"text-align: right;\">\n",
       "      <th></th>\n",
       "      <th>YesCount</th>\n",
       "      <th>NoCount</th>\n",
       "      <th>PercentYes</th>\n",
       "      <th>PercentNo</th>\n",
       "    </tr>\n",
       "  </thead>\n",
       "  <tbody>\n",
       "    <tr>\n",
       "      <th>count</th>\n",
       "      <td>6.000000</td>\n",
       "      <td>6.000000</td>\n",
       "      <td>6.000000</td>\n",
       "      <td>6.000000</td>\n",
       "    </tr>\n",
       "    <tr>\n",
       "      <th>mean</th>\n",
       "      <td>8608.833333</td>\n",
       "      <td>7081.833333</td>\n",
       "      <td>0.595395</td>\n",
       "      <td>0.427123</td>\n",
       "    </tr>\n",
       "    <tr>\n",
       "      <th>std</th>\n",
       "      <td>6640.197299</td>\n",
       "      <td>5814.318719</td>\n",
       "      <td>0.050556</td>\n",
       "      <td>0.049656</td>\n",
       "    </tr>\n",
       "    <tr>\n",
       "      <th>min</th>\n",
       "      <td>1186.000000</td>\n",
       "      <td>2154.000000</td>\n",
       "      <td>0.518251</td>\n",
       "      <td>0.351788</td>\n",
       "    </tr>\n",
       "    <tr>\n",
       "      <th>25%</th>\n",
       "      <td>3834.750000</td>\n",
       "      <td>2628.750000</td>\n",
       "      <td>0.576832</td>\n",
       "      <td>0.406827</td>\n",
       "    </tr>\n",
       "    <tr>\n",
       "      <th>50%</th>\n",
       "      <td>7943.500000</td>\n",
       "      <td>5799.000000</td>\n",
       "      <td>0.587988</td>\n",
       "      <td>0.422906</td>\n",
       "    </tr>\n",
       "    <tr>\n",
       "      <th>75%</th>\n",
       "      <td>12303.500000</td>\n",
       "      <td>9026.250000</td>\n",
       "      <td>0.635748</td>\n",
       "      <td>0.467169</td>\n",
       "    </tr>\n",
       "    <tr>\n",
       "      <th>max</th>\n",
       "      <td>18358.000000</td>\n",
       "      <td>17065.000000</td>\n",
       "      <td>0.653359</td>\n",
       "      <td>0.481749</td>\n",
       "    </tr>\n",
       "  </tbody>\n",
       "</table>\n",
       "</div>"
      ],
      "text/plain": [
       "           YesCount       NoCount  PercentYes  PercentNo\n",
       "count      6.000000      6.000000    6.000000   6.000000\n",
       "mean    8608.833333   7081.833333    0.595395   0.427123\n",
       "std     6640.197299   5814.318719    0.050556   0.049656\n",
       "min     1186.000000   2154.000000    0.518251   0.351788\n",
       "25%     3834.750000   2628.750000    0.576832   0.406827\n",
       "50%     7943.500000   5799.000000    0.587988   0.422906\n",
       "75%    12303.500000   9026.250000    0.635748   0.467169\n",
       "max    18358.000000  17065.000000    0.653359   0.481749"
      ]
     },
     "execution_count": 18,
     "metadata": {},
     "output_type": "execute_result"
    }
   ],
   "source": [
    "#Describing the data frame for the count, mean, and other factors\n",
    "\n",
    "df.describe()"
   ]
  },
  {
   "cell_type": "code",
   "execution_count": 19,
   "id": "8edfdb0f",
   "metadata": {},
   "outputs": [
    {
     "data": {
      "text/html": [
       "<div>\n",
       "<style scoped>\n",
       "    .dataframe tbody tr th:only-of-type {\n",
       "        vertical-align: middle;\n",
       "    }\n",
       "\n",
       "    .dataframe tbody tr th {\n",
       "        vertical-align: top;\n",
       "    }\n",
       "\n",
       "    .dataframe thead th {\n",
       "        text-align: right;\n",
       "    }\n",
       "</style>\n",
       "<table border=\"1\" class=\"dataframe\">\n",
       "  <thead>\n",
       "    <tr style=\"text-align: right;\">\n",
       "      <th></th>\n",
       "      <th>Content</th>\n",
       "      <th>YesCount</th>\n",
       "      <th>NoCount</th>\n",
       "      <th>PercentYes</th>\n",
       "      <th>PercentNo</th>\n",
       "    </tr>\n",
       "  </thead>\n",
       "  <tbody>\n",
       "    <tr>\n",
       "      <th>4</th>\n",
       "      <td>Books and Resources</td>\n",
       "      <td>3790</td>\n",
       "      <td>2544</td>\n",
       "      <td>0.598358</td>\n",
       "      <td>0.401642</td>\n",
       "    </tr>\n",
       "    <tr>\n",
       "      <th>2</th>\n",
       "      <td>Motivated and Work Hard</td>\n",
       "      <td>11918</td>\n",
       "      <td>8715</td>\n",
       "      <td>0.577618</td>\n",
       "      <td>0.422382</td>\n",
       "    </tr>\n",
       "    <tr>\n",
       "      <th>0</th>\n",
       "      <td>My Teachers</td>\n",
       "      <td>18358</td>\n",
       "      <td>17065</td>\n",
       "      <td>0.518251</td>\n",
       "      <td>0.481749</td>\n",
       "    </tr>\n",
       "    <tr>\n",
       "      <th>5</th>\n",
       "      <td>My Teachers</td>\n",
       "      <td>1186</td>\n",
       "      <td>2883</td>\n",
       "      <td>0.653359</td>\n",
       "      <td>0.481749</td>\n",
       "    </tr>\n",
       "    <tr>\n",
       "      <th>1</th>\n",
       "      <td>Other</td>\n",
       "      <td>12432</td>\n",
       "      <td>9130</td>\n",
       "      <td>0.576570</td>\n",
       "      <td>0.423430</td>\n",
       "    </tr>\n",
       "    <tr>\n",
       "      <th>3</th>\n",
       "      <td>Size of Classes</td>\n",
       "      <td>3969</td>\n",
       "      <td>2154</td>\n",
       "      <td>0.648212</td>\n",
       "      <td>0.351788</td>\n",
       "    </tr>\n",
       "  </tbody>\n",
       "</table>\n",
       "</div>"
      ],
      "text/plain": [
       "                   Content  YesCount  NoCount  PercentYes  PercentNo\n",
       "4      Books and Resources      3790     2544    0.598358   0.401642\n",
       "2  Motivated and Work Hard     11918     8715    0.577618   0.422382\n",
       "0              My Teachers     18358    17065    0.518251   0.481749\n",
       "5              My Teachers      1186     2883    0.653359   0.481749\n",
       "1                    Other     12432     9130    0.576570   0.423430\n",
       "3          Size of Classes      3969     2154    0.648212   0.351788"
      ]
     },
     "execution_count": 19,
     "metadata": {},
     "output_type": "execute_result"
    }
   ],
   "source": [
    "#Sorting values in Ascending Order\n",
    "\n",
    "df.sort_values('Content')"
   ]
  },
  {
   "cell_type": "code",
   "execution_count": 20,
   "id": "d2cbbf12",
   "metadata": {},
   "outputs": [
    {
     "data": {
      "text/html": [
       "<div>\n",
       "<style scoped>\n",
       "    .dataframe tbody tr th:only-of-type {\n",
       "        vertical-align: middle;\n",
       "    }\n",
       "\n",
       "    .dataframe tbody tr th {\n",
       "        vertical-align: top;\n",
       "    }\n",
       "\n",
       "    .dataframe thead th {\n",
       "        text-align: right;\n",
       "    }\n",
       "</style>\n",
       "<table border=\"1\" class=\"dataframe\">\n",
       "  <thead>\n",
       "    <tr style=\"text-align: right;\">\n",
       "      <th></th>\n",
       "      <th>Content</th>\n",
       "      <th>YesCount</th>\n",
       "      <th>NoCount</th>\n",
       "      <th>PercentYes</th>\n",
       "      <th>PercentNo</th>\n",
       "    </tr>\n",
       "  </thead>\n",
       "  <tbody>\n",
       "    <tr>\n",
       "      <th>3</th>\n",
       "      <td>Size of Classes</td>\n",
       "      <td>3969</td>\n",
       "      <td>2154</td>\n",
       "      <td>0.648212</td>\n",
       "      <td>0.351788</td>\n",
       "    </tr>\n",
       "    <tr>\n",
       "      <th>1</th>\n",
       "      <td>Other</td>\n",
       "      <td>12432</td>\n",
       "      <td>9130</td>\n",
       "      <td>0.576570</td>\n",
       "      <td>0.423430</td>\n",
       "    </tr>\n",
       "    <tr>\n",
       "      <th>0</th>\n",
       "      <td>My Teachers</td>\n",
       "      <td>18358</td>\n",
       "      <td>17065</td>\n",
       "      <td>0.518251</td>\n",
       "      <td>0.481749</td>\n",
       "    </tr>\n",
       "    <tr>\n",
       "      <th>5</th>\n",
       "      <td>My Teachers</td>\n",
       "      <td>1186</td>\n",
       "      <td>2883</td>\n",
       "      <td>0.653359</td>\n",
       "      <td>0.481749</td>\n",
       "    </tr>\n",
       "    <tr>\n",
       "      <th>2</th>\n",
       "      <td>Motivated and Work Hard</td>\n",
       "      <td>11918</td>\n",
       "      <td>8715</td>\n",
       "      <td>0.577618</td>\n",
       "      <td>0.422382</td>\n",
       "    </tr>\n",
       "    <tr>\n",
       "      <th>4</th>\n",
       "      <td>Books and Resources</td>\n",
       "      <td>3790</td>\n",
       "      <td>2544</td>\n",
       "      <td>0.598358</td>\n",
       "      <td>0.401642</td>\n",
       "    </tr>\n",
       "  </tbody>\n",
       "</table>\n",
       "</div>"
      ],
      "text/plain": [
       "                   Content  YesCount  NoCount  PercentYes  PercentNo\n",
       "3          Size of Classes      3969     2154    0.648212   0.351788\n",
       "1                    Other     12432     9130    0.576570   0.423430\n",
       "0              My Teachers     18358    17065    0.518251   0.481749\n",
       "5              My Teachers      1186     2883    0.653359   0.481749\n",
       "2  Motivated and Work Hard     11918     8715    0.577618   0.422382\n",
       "4      Books and Resources      3790     2544    0.598358   0.401642"
      ]
     },
     "execution_count": 20,
     "metadata": {},
     "output_type": "execute_result"
    }
   ],
   "source": [
    "#Sorting values in Descending Order\n",
    "\n",
    "df.sort_values('Content', ascending=False)"
   ]
  },
  {
   "cell_type": "code",
   "execution_count": 21,
   "id": "dfc98df9",
   "metadata": {},
   "outputs": [
    {
     "data": {
      "text/html": [
       "<div>\n",
       "<style scoped>\n",
       "    .dataframe tbody tr th:only-of-type {\n",
       "        vertical-align: middle;\n",
       "    }\n",
       "\n",
       "    .dataframe tbody tr th {\n",
       "        vertical-align: top;\n",
       "    }\n",
       "\n",
       "    .dataframe thead th {\n",
       "        text-align: right;\n",
       "    }\n",
       "</style>\n",
       "<table border=\"1\" class=\"dataframe\">\n",
       "  <thead>\n",
       "    <tr style=\"text-align: right;\">\n",
       "      <th></th>\n",
       "      <th>Content</th>\n",
       "      <th>YesCount</th>\n",
       "      <th>NoCount</th>\n",
       "      <th>PercentYes</th>\n",
       "      <th>PercentNo</th>\n",
       "    </tr>\n",
       "  </thead>\n",
       "  <tbody>\n",
       "    <tr>\n",
       "      <th>4</th>\n",
       "      <td>Books and Resources</td>\n",
       "      <td>3790</td>\n",
       "      <td>2544</td>\n",
       "      <td>0.598358</td>\n",
       "      <td>0.401642</td>\n",
       "    </tr>\n",
       "    <tr>\n",
       "      <th>2</th>\n",
       "      <td>Motivated and Work Hard</td>\n",
       "      <td>11918</td>\n",
       "      <td>8715</td>\n",
       "      <td>0.577618</td>\n",
       "      <td>0.422382</td>\n",
       "    </tr>\n",
       "    <tr>\n",
       "      <th>0</th>\n",
       "      <td>My Teachers</td>\n",
       "      <td>18358</td>\n",
       "      <td>17065</td>\n",
       "      <td>0.518251</td>\n",
       "      <td>0.481749</td>\n",
       "    </tr>\n",
       "    <tr>\n",
       "      <th>5</th>\n",
       "      <td>My Teachers</td>\n",
       "      <td>1186</td>\n",
       "      <td>2883</td>\n",
       "      <td>0.653359</td>\n",
       "      <td>0.481749</td>\n",
       "    </tr>\n",
       "    <tr>\n",
       "      <th>1</th>\n",
       "      <td>Other</td>\n",
       "      <td>12432</td>\n",
       "      <td>9130</td>\n",
       "      <td>0.576570</td>\n",
       "      <td>0.423430</td>\n",
       "    </tr>\n",
       "    <tr>\n",
       "      <th>3</th>\n",
       "      <td>Size of Classes</td>\n",
       "      <td>3969</td>\n",
       "      <td>2154</td>\n",
       "      <td>0.648212</td>\n",
       "      <td>0.351788</td>\n",
       "    </tr>\n",
       "  </tbody>\n",
       "</table>\n",
       "</div>"
      ],
      "text/plain": [
       "                   Content  YesCount  NoCount  PercentYes  PercentNo\n",
       "4      Books and Resources      3790     2544    0.598358   0.401642\n",
       "2  Motivated and Work Hard     11918     8715    0.577618   0.422382\n",
       "0              My Teachers     18358    17065    0.518251   0.481749\n",
       "5              My Teachers      1186     2883    0.653359   0.481749\n",
       "1                    Other     12432     9130    0.576570   0.423430\n",
       "3          Size of Classes      3969     2154    0.648212   0.351788"
      ]
     },
     "execution_count": 21,
     "metadata": {},
     "output_type": "execute_result"
    }
   ],
   "source": [
    "#Sorting multiple values with ascending and descending for each\n",
    "#Here 1 means True(Ascending) and 0 is Vice Versa\n",
    "\n",
    "df.sort_values(['Content', 'YesCount'], ascending=[1,0])"
   ]
  },
  {
   "cell_type": "markdown",
   "id": "7eea58d2",
   "metadata": {},
   "source": [
    "# Making Changes in Data"
   ]
  },
  {
   "cell_type": "code",
   "execution_count": 22,
   "id": "020bb5e8",
   "metadata": {},
   "outputs": [
    {
     "data": {
      "text/html": [
       "<div>\n",
       "<style scoped>\n",
       "    .dataframe tbody tr th:only-of-type {\n",
       "        vertical-align: middle;\n",
       "    }\n",
       "\n",
       "    .dataframe tbody tr th {\n",
       "        vertical-align: top;\n",
       "    }\n",
       "\n",
       "    .dataframe thead th {\n",
       "        text-align: right;\n",
       "    }\n",
       "</style>\n",
       "<table border=\"1\" class=\"dataframe\">\n",
       "  <thead>\n",
       "    <tr style=\"text-align: right;\">\n",
       "      <th></th>\n",
       "      <th>Content</th>\n",
       "      <th>YesCount</th>\n",
       "      <th>NoCount</th>\n",
       "      <th>PercentYes</th>\n",
       "      <th>PercentNo</th>\n",
       "      <th>Total_Count</th>\n",
       "    </tr>\n",
       "  </thead>\n",
       "  <tbody>\n",
       "    <tr>\n",
       "      <th>0</th>\n",
       "      <td>My Teachers</td>\n",
       "      <td>18358</td>\n",
       "      <td>17065</td>\n",
       "      <td>0.518251</td>\n",
       "      <td>0.481749</td>\n",
       "      <td>35423</td>\n",
       "    </tr>\n",
       "    <tr>\n",
       "      <th>1</th>\n",
       "      <td>Other</td>\n",
       "      <td>12432</td>\n",
       "      <td>9130</td>\n",
       "      <td>0.576570</td>\n",
       "      <td>0.423430</td>\n",
       "      <td>21562</td>\n",
       "    </tr>\n",
       "    <tr>\n",
       "      <th>2</th>\n",
       "      <td>Motivated and Work Hard</td>\n",
       "      <td>11918</td>\n",
       "      <td>8715</td>\n",
       "      <td>0.577618</td>\n",
       "      <td>0.422382</td>\n",
       "      <td>20633</td>\n",
       "    </tr>\n",
       "    <tr>\n",
       "      <th>3</th>\n",
       "      <td>Size of Classes</td>\n",
       "      <td>3969</td>\n",
       "      <td>2154</td>\n",
       "      <td>0.648212</td>\n",
       "      <td>0.351788</td>\n",
       "      <td>6123</td>\n",
       "    </tr>\n",
       "    <tr>\n",
       "      <th>4</th>\n",
       "      <td>Books and Resources</td>\n",
       "      <td>3790</td>\n",
       "      <td>2544</td>\n",
       "      <td>0.598358</td>\n",
       "      <td>0.401642</td>\n",
       "      <td>6334</td>\n",
       "    </tr>\n",
       "    <tr>\n",
       "      <th>5</th>\n",
       "      <td>My Teachers</td>\n",
       "      <td>1186</td>\n",
       "      <td>2883</td>\n",
       "      <td>0.653359</td>\n",
       "      <td>0.481749</td>\n",
       "      <td>4069</td>\n",
       "    </tr>\n",
       "  </tbody>\n",
       "</table>\n",
       "</div>"
      ],
      "text/plain": [
       "                   Content  YesCount  NoCount  PercentYes  PercentNo  \\\n",
       "0              My Teachers     18358    17065    0.518251   0.481749   \n",
       "1                    Other     12432     9130    0.576570   0.423430   \n",
       "2  Motivated and Work Hard     11918     8715    0.577618   0.422382   \n",
       "3          Size of Classes      3969     2154    0.648212   0.351788   \n",
       "4      Books and Resources      3790     2544    0.598358   0.401642   \n",
       "5              My Teachers      1186     2883    0.653359   0.481749   \n",
       "\n",
       "   Total_Count  \n",
       "0        35423  \n",
       "1        21562  \n",
       "2        20633  \n",
       "3         6123  \n",
       "4         6334  \n",
       "5         4069  "
      ]
     },
     "execution_count": 22,
     "metadata": {},
     "output_type": "execute_result"
    }
   ],
   "source": [
    "#Adding Column by adding values of other two columns\n",
    " \n",
    "df['Total_Count'] = df['YesCount'] + df['NoCount'] \n",
    "\n",
    "df"
   ]
  },
  {
   "cell_type": "code",
   "execution_count": 23,
   "id": "87b7a9a9",
   "metadata": {},
   "outputs": [
    {
     "data": {
      "text/html": [
       "<div>\n",
       "<style scoped>\n",
       "    .dataframe tbody tr th:only-of-type {\n",
       "        vertical-align: middle;\n",
       "    }\n",
       "\n",
       "    .dataframe tbody tr th {\n",
       "        vertical-align: top;\n",
       "    }\n",
       "\n",
       "    .dataframe thead th {\n",
       "        text-align: right;\n",
       "    }\n",
       "</style>\n",
       "<table border=\"1\" class=\"dataframe\">\n",
       "  <thead>\n",
       "    <tr style=\"text-align: right;\">\n",
       "      <th></th>\n",
       "      <th>Content</th>\n",
       "      <th>YesCount</th>\n",
       "      <th>NoCount</th>\n",
       "      <th>PercentYes</th>\n",
       "      <th>PercentNo</th>\n",
       "    </tr>\n",
       "  </thead>\n",
       "  <tbody>\n",
       "    <tr>\n",
       "      <th>0</th>\n",
       "      <td>My Teachers</td>\n",
       "      <td>18358</td>\n",
       "      <td>17065</td>\n",
       "      <td>0.518251</td>\n",
       "      <td>0.481749</td>\n",
       "    </tr>\n",
       "    <tr>\n",
       "      <th>1</th>\n",
       "      <td>Other</td>\n",
       "      <td>12432</td>\n",
       "      <td>9130</td>\n",
       "      <td>0.576570</td>\n",
       "      <td>0.423430</td>\n",
       "    </tr>\n",
       "    <tr>\n",
       "      <th>2</th>\n",
       "      <td>Motivated and Work Hard</td>\n",
       "      <td>11918</td>\n",
       "      <td>8715</td>\n",
       "      <td>0.577618</td>\n",
       "      <td>0.422382</td>\n",
       "    </tr>\n",
       "    <tr>\n",
       "      <th>3</th>\n",
       "      <td>Size of Classes</td>\n",
       "      <td>3969</td>\n",
       "      <td>2154</td>\n",
       "      <td>0.648212</td>\n",
       "      <td>0.351788</td>\n",
       "    </tr>\n",
       "    <tr>\n",
       "      <th>4</th>\n",
       "      <td>Books and Resources</td>\n",
       "      <td>3790</td>\n",
       "      <td>2544</td>\n",
       "      <td>0.598358</td>\n",
       "      <td>0.401642</td>\n",
       "    </tr>\n",
       "    <tr>\n",
       "      <th>5</th>\n",
       "      <td>My Teachers</td>\n",
       "      <td>1186</td>\n",
       "      <td>2883</td>\n",
       "      <td>0.653359</td>\n",
       "      <td>0.481749</td>\n",
       "    </tr>\n",
       "  </tbody>\n",
       "</table>\n",
       "</div>"
      ],
      "text/plain": [
       "                   Content  YesCount  NoCount  PercentYes  PercentNo\n",
       "0              My Teachers     18358    17065    0.518251   0.481749\n",
       "1                    Other     12432     9130    0.576570   0.423430\n",
       "2  Motivated and Work Hard     11918     8715    0.577618   0.422382\n",
       "3          Size of Classes      3969     2154    0.648212   0.351788\n",
       "4      Books and Resources      3790     2544    0.598358   0.401642\n",
       "5              My Teachers      1186     2883    0.653359   0.481749"
      ]
     },
     "execution_count": 23,
     "metadata": {},
     "output_type": "execute_result"
    }
   ],
   "source": [
    "#Dropping(Delete) a column\n",
    "\n",
    "df.drop(columns='Total_Count')"
   ]
  },
  {
   "cell_type": "code",
   "execution_count": 24,
   "id": "5fa9f3d1",
   "metadata": {},
   "outputs": [
    {
     "data": {
      "text/html": [
       "<div>\n",
       "<style scoped>\n",
       "    .dataframe tbody tr th:only-of-type {\n",
       "        vertical-align: middle;\n",
       "    }\n",
       "\n",
       "    .dataframe tbody tr th {\n",
       "        vertical-align: top;\n",
       "    }\n",
       "\n",
       "    .dataframe thead th {\n",
       "        text-align: right;\n",
       "    }\n",
       "</style>\n",
       "<table border=\"1\" class=\"dataframe\">\n",
       "  <thead>\n",
       "    <tr style=\"text-align: right;\">\n",
       "      <th></th>\n",
       "      <th>Content</th>\n",
       "      <th>YesCount</th>\n",
       "      <th>NoCount</th>\n",
       "      <th>PercentYes</th>\n",
       "      <th>PercentNo</th>\n",
       "      <th>Total_Count</th>\n",
       "    </tr>\n",
       "  </thead>\n",
       "  <tbody>\n",
       "    <tr>\n",
       "      <th>0</th>\n",
       "      <td>My Teachers</td>\n",
       "      <td>18358</td>\n",
       "      <td>17065</td>\n",
       "      <td>0.518251</td>\n",
       "      <td>0.481749</td>\n",
       "      <td>17066.000000</td>\n",
       "    </tr>\n",
       "    <tr>\n",
       "      <th>1</th>\n",
       "      <td>Other</td>\n",
       "      <td>12432</td>\n",
       "      <td>9130</td>\n",
       "      <td>0.576570</td>\n",
       "      <td>0.423430</td>\n",
       "      <td>9131.000000</td>\n",
       "    </tr>\n",
       "    <tr>\n",
       "      <th>2</th>\n",
       "      <td>Motivated and Work Hard</td>\n",
       "      <td>11918</td>\n",
       "      <td>8715</td>\n",
       "      <td>0.577618</td>\n",
       "      <td>0.422382</td>\n",
       "      <td>8716.000000</td>\n",
       "    </tr>\n",
       "    <tr>\n",
       "      <th>3</th>\n",
       "      <td>Size of Classes</td>\n",
       "      <td>3969</td>\n",
       "      <td>2154</td>\n",
       "      <td>0.648212</td>\n",
       "      <td>0.351788</td>\n",
       "      <td>2155.000000</td>\n",
       "    </tr>\n",
       "    <tr>\n",
       "      <th>4</th>\n",
       "      <td>Books and Resources</td>\n",
       "      <td>3790</td>\n",
       "      <td>2544</td>\n",
       "      <td>0.598358</td>\n",
       "      <td>0.401642</td>\n",
       "      <td>2545.000000</td>\n",
       "    </tr>\n",
       "    <tr>\n",
       "      <th>5</th>\n",
       "      <td>My Teachers</td>\n",
       "      <td>1186</td>\n",
       "      <td>2883</td>\n",
       "      <td>0.653359</td>\n",
       "      <td>0.481749</td>\n",
       "      <td>2884.135108</td>\n",
       "    </tr>\n",
       "  </tbody>\n",
       "</table>\n",
       "</div>"
      ],
      "text/plain": [
       "                   Content  YesCount  NoCount  PercentYes  PercentNo  \\\n",
       "0              My Teachers     18358    17065    0.518251   0.481749   \n",
       "1                    Other     12432     9130    0.576570   0.423430   \n",
       "2  Motivated and Work Hard     11918     8715    0.577618   0.422382   \n",
       "3          Size of Classes      3969     2154    0.648212   0.351788   \n",
       "4      Books and Resources      3790     2544    0.598358   0.401642   \n",
       "5              My Teachers      1186     2883    0.653359   0.481749   \n",
       "\n",
       "    Total_Count  \n",
       "0  17066.000000  \n",
       "1   9131.000000  \n",
       "2   8716.000000  \n",
       "3   2155.000000  \n",
       "4   2545.000000  \n",
       "5   2884.135108  "
      ]
     },
     "execution_count": 24,
     "metadata": {},
     "output_type": "execute_result"
    }
   ],
   "source": [
    "#Equating a new column values of other columns using iloc\n",
    "#For all rows, we take column 2 to 4, it's sum where axis 1 means we considering horizontal axis\n",
    "\n",
    "#in this case - NoCount, PercentYes, PercentNo\n",
    "\n",
    "df['Total_Count'] = df.iloc[:,2:5].sum(axis=1) \n",
    "\n",
    "df"
   ]
  },
  {
   "cell_type": "code",
   "execution_count": 25,
   "id": "b64fd03c",
   "metadata": {},
   "outputs": [
    {
     "data": {
      "text/plain": [
       "['Content', 'YesCount', 'NoCount', 'PercentYes', 'PercentNo', 'Total_Count']"
      ]
     },
     "execution_count": 25,
     "metadata": {},
     "output_type": "execute_result"
    }
   ],
   "source": [
    "#List of Columns\n",
    "\n",
    "cols = list(df.columns)\n",
    "\n",
    "cols"
   ]
  },
  {
   "cell_type": "code",
   "execution_count": 26,
   "id": "3569e1a1",
   "metadata": {},
   "outputs": [
    {
     "data": {
      "text/html": [
       "<div>\n",
       "<style scoped>\n",
       "    .dataframe tbody tr th:only-of-type {\n",
       "        vertical-align: middle;\n",
       "    }\n",
       "\n",
       "    .dataframe tbody tr th {\n",
       "        vertical-align: top;\n",
       "    }\n",
       "\n",
       "    .dataframe thead th {\n",
       "        text-align: right;\n",
       "    }\n",
       "</style>\n",
       "<table border=\"1\" class=\"dataframe\">\n",
       "  <thead>\n",
       "    <tr style=\"text-align: right;\">\n",
       "      <th></th>\n",
       "      <th>Content</th>\n",
       "      <th>YesCount</th>\n",
       "      <th>NoCount</th>\n",
       "      <th>PercentYes</th>\n",
       "      <th>Total_Count</th>\n",
       "      <th>PercentNo</th>\n",
       "      <th>Total_Count</th>\n",
       "    </tr>\n",
       "  </thead>\n",
       "  <tbody>\n",
       "    <tr>\n",
       "      <th>0</th>\n",
       "      <td>My Teachers</td>\n",
       "      <td>18358</td>\n",
       "      <td>17065</td>\n",
       "      <td>0.518251</td>\n",
       "      <td>17066.000000</td>\n",
       "      <td>0.481749</td>\n",
       "      <td>17066.000000</td>\n",
       "    </tr>\n",
       "    <tr>\n",
       "      <th>1</th>\n",
       "      <td>Other</td>\n",
       "      <td>12432</td>\n",
       "      <td>9130</td>\n",
       "      <td>0.576570</td>\n",
       "      <td>9131.000000</td>\n",
       "      <td>0.423430</td>\n",
       "      <td>9131.000000</td>\n",
       "    </tr>\n",
       "    <tr>\n",
       "      <th>2</th>\n",
       "      <td>Motivated and Work Hard</td>\n",
       "      <td>11918</td>\n",
       "      <td>8715</td>\n",
       "      <td>0.577618</td>\n",
       "      <td>8716.000000</td>\n",
       "      <td>0.422382</td>\n",
       "      <td>8716.000000</td>\n",
       "    </tr>\n",
       "    <tr>\n",
       "      <th>3</th>\n",
       "      <td>Size of Classes</td>\n",
       "      <td>3969</td>\n",
       "      <td>2154</td>\n",
       "      <td>0.648212</td>\n",
       "      <td>2155.000000</td>\n",
       "      <td>0.351788</td>\n",
       "      <td>2155.000000</td>\n",
       "    </tr>\n",
       "    <tr>\n",
       "      <th>4</th>\n",
       "      <td>Books and Resources</td>\n",
       "      <td>3790</td>\n",
       "      <td>2544</td>\n",
       "      <td>0.598358</td>\n",
       "      <td>2545.000000</td>\n",
       "      <td>0.401642</td>\n",
       "      <td>2545.000000</td>\n",
       "    </tr>\n",
       "    <tr>\n",
       "      <th>5</th>\n",
       "      <td>My Teachers</td>\n",
       "      <td>1186</td>\n",
       "      <td>2883</td>\n",
       "      <td>0.653359</td>\n",
       "      <td>2884.135108</td>\n",
       "      <td>0.481749</td>\n",
       "      <td>2884.135108</td>\n",
       "    </tr>\n",
       "  </tbody>\n",
       "</table>\n",
       "</div>"
      ],
      "text/plain": [
       "                   Content  YesCount  NoCount  PercentYes   Total_Count  \\\n",
       "0              My Teachers     18358    17065    0.518251  17066.000000   \n",
       "1                    Other     12432     9130    0.576570   9131.000000   \n",
       "2  Motivated and Work Hard     11918     8715    0.577618   8716.000000   \n",
       "3          Size of Classes      3969     2154    0.648212   2155.000000   \n",
       "4      Books and Resources      3790     2544    0.598358   2545.000000   \n",
       "5              My Teachers      1186     2883    0.653359   2884.135108   \n",
       "\n",
       "   PercentNo   Total_Count  \n",
       "0   0.481749  17066.000000  \n",
       "1   0.423430   9131.000000  \n",
       "2   0.422382   8716.000000  \n",
       "3   0.351788   2155.000000  \n",
       "4   0.401642   2545.000000  \n",
       "5   0.481749   2884.135108  "
      ]
     },
     "execution_count": 26,
     "metadata": {},
     "output_type": "execute_result"
    }
   ],
   "source": [
    "#Rearranging Total column to 4th column\n",
    "\n",
    "df = df[cols[0:4] + [cols[-1]] + cols[4:]]\n",
    "\n",
    "\n",
    "#We use brackets for [cols[-1]] cause otherwise, it will be considered as a single string \n",
    "#since we get only one value from it\n",
    "\n",
    "\n",
    "df"
   ]
  },
  {
   "cell_type": "markdown",
   "id": "4e2efb5f",
   "metadata": {},
   "source": [
    "# Saving Data"
   ]
  },
  {
   "cell_type": "raw",
   "id": "d1530ce9",
   "metadata": {},
   "source": [
    "#To save as a csv file:\n",
    "df.to_csv('modified.csv', index=False)\n",
    "\n",
    "\n",
    "#To save as an excel file:\n",
    "df.to_excel('modified.xlsx', index=False)\n",
    "\n",
    "\n",
    "#To save as a tab separated text file:\n",
    "df.to_csv('modified.txt', index=False, sep='\\t')"
   ]
  },
  {
   "cell_type": "markdown",
   "id": "8fdd6941",
   "metadata": {},
   "source": [
    "# Filtering Data "
   ]
  },
  {
   "cell_type": "code",
   "execution_count": 28,
   "id": "9c08f229",
   "metadata": {},
   "outputs": [
    {
     "data": {
      "text/plain": [
       "<pandas.core.indexing._LocIndexer at 0x1e6a42dad60>"
      ]
     },
     "execution_count": 28,
     "metadata": {},
     "output_type": "execute_result"
    }
   ],
   "source": [
    "df.loc(['Content'] == 'My Teachers')"
   ]
  },
  {
   "cell_type": "code",
   "execution_count": null,
   "id": "7b1655cd",
   "metadata": {},
   "outputs": [],
   "source": []
  }
 ],
 "metadata": {
  "kernelspec": {
   "display_name": "Python 3",
   "language": "python",
   "name": "python3"
  },
  "language_info": {
   "codemirror_mode": {
    "name": "ipython",
    "version": 3
   },
   "file_extension": ".py",
   "mimetype": "text/x-python",
   "name": "python",
   "nbconvert_exporter": "python",
   "pygments_lexer": "ipython3",
   "version": "3.8.8"
  }
 },
 "nbformat": 4,
 "nbformat_minor": 5
}
